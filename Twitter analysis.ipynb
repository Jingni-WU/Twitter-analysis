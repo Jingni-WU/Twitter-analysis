{
 "cells": [
  {
   "cell_type": "markdown",
   "metadata": {},
   "source": [
    "## 1)Importing the Libraries"
   ]
  },
  {
   "cell_type": "markdown",
   "metadata": {},
   "source": [
    "Twitter API keys:\n",
    "\n",
    "API Key\n",
    "mLktDWVuMOC2qh2ZrdaNrwwww\n",
    "\n",
    "API Key Secret\n",
    "7KRlr8YBpqER9IrPiugQ9wP6IFDy6caZWd1l8ioWgY9LIIx69L\n",
    "\n",
    "\n",
    "Bearer Token\n",
    "AAAAAAAAAAAAAAAAAAAAAMSdjQEAAAAA0S%2FDJP1usZ5hr4qtaRrLqLugm0k%3Dtum0af3K2Ks1oXc27pMOpgaGZuF1WtxD1VEwHgWuRj3AbuVrqY\n",
    "\n",
    "Access Token\n",
    "1545415916040720385-GxnjhWzMXghLFkTNnRCFw9Ds6ZggcJ\n",
    "\n",
    "\n",
    "Access Token Secret\n",
    "s9DZED2mjPIqJt7lwtxoCtBf9mwOkv8IcaiJkuFNsSzPG\n"
   ]
  },
  {
   "cell_type": "code",
   "execution_count": 10,
   "metadata": {},
   "outputs": [],
   "source": [
    "#pip install textblob\n",
    "from textblob import TextBlob"
   ]
  },
  {
   "cell_type": "code",
   "execution_count": 11,
   "metadata": {},
   "outputs": [],
   "source": [
    "#pip install tweepy\n",
    "import tweepy"
   ]
  },
  {
   "cell_type": "code",
   "execution_count": 12,
   "metadata": {},
   "outputs": [],
   "source": [
    "import matplotlib.pyplot as plt"
   ]
  },
  {
   "cell_type": "markdown",
   "metadata": {},
   "source": [
    "## 2)Connecting with the Twitter API"
   ]
  },
  {
   "cell_type": "code",
   "execution_count": 13,
   "metadata": {},
   "outputs": [],
   "source": [
    "#Store twitter app's token and key\n",
    "consumer_key = \"mLktDWVuMOC2qh2ZrdaNrwwww\"\n",
    "consumer_sercret = \"7KRlr8YBpqER9IrPiugQ9wP6IFDy6caZWd1l8ioWgY9LIIx69L\"\n",
    "access_token = \"1545415916040720385-GxnjhWzMXghLFkTNnRCFw9Ds6ZggcJ\"\n",
    "access_token_secret = \"s9DZED2mjPIqJt7lwtxoCtBf9mwOkv8IcaiJkuFNsSzPG\""
   ]
  },
  {
   "cell_type": "code",
   "execution_count": 14,
   "metadata": {},
   "outputs": [],
   "source": [
    "#Setup authtication\n",
    "auth = tweepy.OAuthHandler(consumer_key, consumer_sercret)\n",
    "auth.set_access_token(access_token, access_token_secret)\n",
    "api = tweepy.API(auth)\n",
    "\n",
    "client = tweepy.Client(bearer_token='AAAAAAAAAAAAAAAAAAAAAMSdjQEAAAAA0S%2FDJP1usZ5hr4qtaRrLqLugm0k%3Dtum0af3K2Ks1oXc27pMOpgaGZuF1WtxD1VEwHgWuRj3AbuVrqY')"
   ]
  },
  {
   "cell_type": "code",
   "execution_count": 15,
   "metadata": {},
   "outputs": [
    {
     "data": {
      "text/plain": [
       "<tweepy.api.API at 0x220282e1b88>"
      ]
     },
     "execution_count": 15,
     "metadata": {},
     "output_type": "execute_result"
    }
   ],
   "source": [
    "api"
   ]
  },
  {
   "cell_type": "code",
   "execution_count": 16,
   "metadata": {},
   "outputs": [],
   "source": [
    "#Define the terms for search and search numbers\n",
    "search_term = \"Money Heist\"\n",
    "no_of_tweet = 1000"
   ]
  },
  {
   "cell_type": "code",
   "execution_count": 17,
   "metadata": {},
   "outputs": [],
   "source": [
    "# tweets = tweepy.Cursor(api.search_tweets, q = search_term).items(no_of_tweet)\n",
    "# tweets = api.search_tweets(q = search_term).items(no_of_tweet)\n",
    "\n",
    "#paginator: function to search twits\n",
    "#client.search_recent_tweets: search twits with search term\n",
    "tweets = tweepy.Paginator(client.search_recent_tweets, search_term, max_results=100).flatten(limit=no_of_tweet)"
   ]
  },
  {
   "cell_type": "code",
   "execution_count": 18,
   "metadata": {},
   "outputs": [
    {
     "data": {
      "text/plain": [
       "<generator object Paginator.flatten at 0x0000022024CE0EC8>"
      ]
     },
     "execution_count": 18,
     "metadata": {},
     "output_type": "execute_result"
    }
   ],
   "source": [
    "tweets"
   ]
  },
  {
   "cell_type": "markdown",
   "metadata": {},
   "source": [
    "## 3)Understand the working of TextBlob"
   ]
  },
  {
   "cell_type": "code",
   "execution_count": 19,
   "metadata": {},
   "outputs": [],
   "source": [
    "#Use sentiment polarity to tell sentiment\n",
    "#positive>0 negative<0 neutral=0"
   ]
  },
  {
   "cell_type": "code",
   "execution_count": 20,
   "metadata": {},
   "outputs": [],
   "source": [
    "a = \"I am a bad Circket player\"\n",
    "b = \"I am a good player\"\n",
    "c = \"I am a Circket player\""
   ]
  },
  {
   "cell_type": "code",
   "execution_count": 21,
   "metadata": {},
   "outputs": [
    {
     "data": {
      "text/plain": [
       "-0.6999999999999998"
      ]
     },
     "execution_count": 21,
     "metadata": {},
     "output_type": "execute_result"
    }
   ],
   "source": [
    "TextBlob(a).sentiment.polarity"
   ]
  },
  {
   "cell_type": "code",
   "execution_count": 22,
   "metadata": {},
   "outputs": [
    {
     "data": {
      "text/plain": [
       "0.7"
      ]
     },
     "execution_count": 22,
     "metadata": {},
     "output_type": "execute_result"
    }
   ],
   "source": [
    "TextBlob(b).sentiment.polarity"
   ]
  },
  {
   "cell_type": "code",
   "execution_count": 23,
   "metadata": {},
   "outputs": [
    {
     "data": {
      "text/plain": [
       "0.0"
      ]
     },
     "execution_count": 23,
     "metadata": {},
     "output_type": "execute_result"
    }
   ],
   "source": [
    "TextBlob(c).sentiment.polarity"
   ]
  },
  {
   "cell_type": "markdown",
   "metadata": {},
   "source": [
    "## 4)Iterate the data and convert the result in percentage"
   ]
  },
  {
   "cell_type": "code",
   "execution_count": 24,
   "metadata": {},
   "outputs": [],
   "source": [
    "positive = 0\n",
    "negative = 0\n",
    "neutral  = 0\n",
    "polarity = 0"
   ]
  },
  {
   "cell_type": "code",
   "execution_count": 25,
   "metadata": {},
   "outputs": [
    {
     "name": "stdout",
     "output_type": "stream",
     "text": [
      "@Syiraroo Aar sbb aku baru habiskan Money Heist Korea\n",
      "Money heist udh tayang tinggal squid game yg belum\n",
      "@deasappear Siapp thank u, met nonton deee !! Money heist udh nnton blm ? Yg S2 ???\n",
      "RT @sanshinetoday: ATEEZ as komplotan Money Heist💰\n",
      "\n",
      "ini thread isi edit iseng-iseng hasil gabutku!\n",
      "\n",
      "⚠️warning! agak spoiler(?) https://t.co…\n",
      "Mi sono appena sparato:\n",
      " S01 | E10 of Money Heist: Korea - Joint Economic Area! #moneyheist  https://t.co/Xvtz43fJjs #tvtime https://t.co/ihTNtWGtf9\n",
      "@kdrama_menfess money heist\n",
      "RT @Thompsonklay: @hodgetwins @POTUS Ukraine running the greatest money heist of all time.\n",
      "RT @Mrdj255: Niko available for any heist or any illegal activities that involving money …🥱🚶‍♂️😌\n",
      "List to keep up with webtoons and shows I’m watching:\n",
      "Hometown chachacha\n",
      "Operation true love\n",
      "Money heist\n",
      "Singles inferno\n",
      "Wednesday \n",
      "Little women\n",
      "Crash landing on you\n",
      "Act like you love me \n",
      "Sex life of college girls\n",
      "Extraordinary you\n",
      "Young adult matters\n",
      "@kdrama_menfess Dia main di money heist jg kok. Tp sayang karakternya mirip banget sama yg di shooting stars\n"
     ]
    }
   ],
   "source": [
    "count = 0\n",
    "for tweet in tweets:    #Iterate through all the tweets found, and analyze sentiemnt for each of it\n",
    "    if count < 10:\n",
    "        print(tweet)\n",
    "        count+=1\n",
    "    analysis = TextBlob(tweet.text) #.text就是提取帖文中的text部分，不管别的没用的信息\n",
    "    polarity += analysis.sentiment.polarity\n",
    "    \n",
    "    #这里就是分别做统计\n",
    "    if(analysis.sentiment.polarity == 0):\n",
    "       neutral += 1\n",
    "\n",
    "    elif(analysis.sentiment.polarity < 0.00):\n",
    "       negative += 1\n",
    "\n",
    "    elif(analysis.sentiment.polarity > 0.00):\n",
    "       positive += 1"
   ]
  },
  {
   "cell_type": "code",
   "execution_count": 26,
   "metadata": {},
   "outputs": [
    {
     "data": {
      "text/plain": [
       "306"
      ]
     },
     "execution_count": 26,
     "metadata": {},
     "output_type": "execute_result"
    }
   ],
   "source": [
    "positive"
   ]
  },
  {
   "cell_type": "code",
   "execution_count": 27,
   "metadata": {},
   "outputs": [
    {
     "data": {
      "text/plain": [
       "103"
      ]
     },
     "execution_count": 27,
     "metadata": {},
     "output_type": "execute_result"
    }
   ],
   "source": [
    "negative"
   ]
  },
  {
   "cell_type": "code",
   "execution_count": 28,
   "metadata": {},
   "outputs": [
    {
     "data": {
      "text/plain": [
       "591"
      ]
     },
     "execution_count": 28,
     "metadata": {},
     "output_type": "execute_result"
    }
   ],
   "source": [
    "neutral"
   ]
  },
  {
   "cell_type": "code",
   "execution_count": 166,
   "metadata": {},
   "outputs": [
    {
     "data": {
      "text/plain": [
       "37.55943109668104"
      ]
     },
     "execution_count": 166,
     "metadata": {},
     "output_type": "execute_result"
    }
   ],
   "source": [
    "polarity"
   ]
  },
  {
   "cell_type": "code",
   "execution_count": 30,
   "metadata": {},
   "outputs": [],
   "source": [
    "# Define a function to calculate the percentage\n",
    "def percentage(part, whole):\n",
    "    return 100 * float(part)/float(whole)"
   ]
  },
  {
   "cell_type": "code",
   "execution_count": 31,
   "metadata": {},
   "outputs": [],
   "source": [
    "positive = percentage(positive, no_of_tweet)\n",
    "negative = percentage(negative, no_of_tweet)\n",
    "neutral  = percentage(neutral, no_of_tweet)\n",
    "polarity  = percentage(polarity, no_of_tweet)"
   ]
  },
  {
   "cell_type": "code",
   "execution_count": 32,
   "metadata": {},
   "outputs": [],
   "source": [
    "#Formant results\n",
    "positive = format(positive, '.2f')\n",
    "negative = format(negative, '.2f')\n",
    "neutral = format(neutral, '.2f')"
   ]
  },
  {
   "cell_type": "code",
   "execution_count": 33,
   "metadata": {},
   "outputs": [
    {
     "name": "stdout",
     "output_type": "stream",
     "text": [
      "Reaction of the people on Money Heist By analyzing 1000 Tweets \n",
      "is 'Positive'\n"
     ]
    }
   ],
   "source": [
    "print(\"Reaction of the people on \" + search_term + \n",
    "      \" By analyzing \" + str(no_of_tweet) + \" Tweets \")\n",
    "\n",
    "if (polarity == 0):\n",
    "    print(\" is 'Neutral'\")\n",
    "    \n",
    "elif (polarity < 0.00):\n",
    "    print(\"is 'Negative'\")\n",
    "    \n",
    "elif (polarity > 0.00):\n",
    "    print(\"is 'Positive'\")"
   ]
  },
  {
   "cell_type": "markdown",
   "metadata": {},
   "source": [
    "## Getting the result of the Analysis"
   ]
  },
  {
   "cell_type": "code",
   "execution_count": 34,
   "metadata": {},
   "outputs": [
    {
     "data": {
      "image/png": "[encoded data removed]",
      "text/plain": [
       "<Figure size 432x288 with 1 Axes>"
      ]
     },
     "metadata": {},
     "output_type": "display_data"
    }
   ],
   "source": [
    "labels = ['Positive ['+str(positive)+'%]', \n",
    "          'Neutral ['+str(neutral)+'%]', \n",
    "          'Negative ['+str(negative)+'%]']\n",
    "\n",
    "sizes = [positive, neutral, negative]\n",
    "colors = ['yellowgreen', 'gold', 'red']\n",
    "\n",
    "patches, texts = plt.pie(sizes, colors = colors, startangle = 90)\n",
    "plt.legend(patches, labels, loc = \"best\")\n",
    "plt.title('Reaction of the people on '\n",
    "          + search_term +' by analyzing '\n",
    "          + str(no_of_tweet) +' Tweets is:')\n",
    "plt.axis('equal')\n",
    "plt.tight_layout()\n",
    "plt.show()"
   ]
  },
  {
   "cell_type": "code",
   "execution_count": null,
   "metadata": {},
   "outputs": [],
   "source": []
  },
  {
   "cell_type": "code",
   "execution_count": null,
   "metadata": {},
   "outputs": [],
   "source": []
  }
 ],
 "metadata": {
  "kernelspec": {
   "display_name": "Python 3",
   "language": "python",
   "name": "python3"
  },
  "language_info": {
   "codemirror_mode": {
    "name": "ipython",
    "version": 3
   },
   "file_extension": ".py",
   "mimetype": "text/x-python",
   "name": "python",
   "nbconvert_exporter": "python",
   "pygments_lexer": "ipython3",
   "version": "3.7.4"
  }
 },
 "nbformat": 4,
 "nbformat_minor": 2
}
